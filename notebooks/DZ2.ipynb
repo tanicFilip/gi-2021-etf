{
 "cells": [
  {
   "cell_type": "code",
   "execution_count": 1,
   "metadata": {},
   "outputs": [
    {
     "name": "stdout",
     "output_type": "stream",
     "text": [
      "Collecting pysam\n",
      "  Downloading pysam-0.16.0.1-cp38-cp38-manylinux1_x86_64.whl (10.2 MB)\n",
      "\u001b[K     |████████████████████████████████| 10.2 MB 21.1 MB/s eta 0:00:01\n",
      "\u001b[?25hInstalling collected packages: pysam\n",
      "Successfully installed pysam-0.16.0.1\n",
      "Note: you may need to restart the kernel to use updated packages.\n"
     ]
    }
   ],
   "source": [
    "pip install pysam"
   ]
  },
  {
   "cell_type": "code",
   "execution_count": 20,
   "metadata": {},
   "outputs": [],
   "source": [
    "from pysam import AlignmentFile, AlignedSegment\n",
    "\n",
    "alignmentFile = AlignmentFile('/sbgenomics/project-files/merged-tumor.bam')"
   ]
  },
  {
   "cell_type": "code",
   "execution_count": 47,
   "metadata": {},
   "outputs": [],
   "source": [
    "reads = []\n",
    "\n",
    "for read in alignmentFile:\n",
    "    reads.append(read)"
   ]
  },
  {
   "cell_type": "code",
   "execution_count": 27,
   "metadata": {},
   "outputs": [],
   "source": [
    "# Take the first read from the AlignmentFile\n",
    "firstRead = reads[0]"
   ]
  },
  {
   "cell_type": "code",
   "execution_count": 43,
   "metadata": {},
   "outputs": [
    {
     "name": "stdout",
     "output_type": "stream",
     "text": [
      "qname D0RE2ACXX120401:1:2105:2631:113383\n",
      "flag 163\n",
      "rname 20\n",
      "pos 9483248\n",
      "mapq 27\n",
      "cigar [(0, 76)]\n",
      "mrnm 20\n",
      "mpos 9483381\n",
      "isize 209\n",
      "seq TTTTCAAACAGTATCTATGCCTGCCAAATGTGAACATATAAAAAAAAACCAGAATGTGCCATTCTGATTTAAACTG\n",
      "qual =><?@?@@C@I?>CJC>BHIFE?HEC>D;J@B@DHCC>C@EFDDBDEDIFCH?>=04?EEEBBGCFB?BB>CA?@>\n",
      "tags [('XA', 'GL000217.1,-110754,76M,1;'), ('BD', 'NNNNNNNNNNNNNNNNNNNNNNNNNNNNNNNNNNNNNNNNNNNNNNNNNNNNNNNNNNNNNNNNNNNNNNNNNNNN'), ('MD', '76'), ('RG', '1'), ('BI', 'NNNNNNNNNNNNNNNNNNNNNNNNNNNNNNNNNNNNNNNNNNNNNNNNNNNNNNNNNNNNNNNNNNNNNNNNNNNN'), ('NM', 0), ('MQ', 27), ('AS', 76), ('XS', 71)]\n"
     ]
    }
   ],
   "source": [
    "# Inspect the fields in the AlignedSegment\n",
    "print('qname', firstRead.qname)\n",
    "print('flag', firstRead.flag)\n",
    "print('rname', firstRead.rname)\n",
    "print('pos', firstRead.pos)\n",
    "print('mapq', firstRead.mapq)\n",
    "print('cigar', firstRead.cigar)\n",
    "print('mrnm', firstRead.mrnm)\n",
    "print('mpos', firstRead.mpos)\n",
    "print('isize', firstRead.isize)\n",
    "print('seq', firstRead.seq)\n",
    "print('qual', firstRead.qual)\n",
    "print('tags', firstRead.tags)"
   ]
  },
  {
   "cell_type": "code",
   "execution_count": 44,
   "metadata": {},
   "outputs": [
    {
     "name": "stdout",
     "output_type": "stream",
     "text": [
      "flag 163\n"
     ]
    }
   ],
   "source": [
    "# Inspect the flag field\n",
    "print('flag', firstRead.flag)"
   ]
  },
  {
   "cell_type": "code",
   "execution_count": 45,
   "metadata": {},
   "outputs": [
    {
     "data": {
      "text/plain": [
       "'10100011'"
      ]
     },
     "execution_count": 45,
     "metadata": {},
     "output_type": "execute_result"
    }
   ],
   "source": [
    "\"{0:b}\".format(firstRead.flag)"
   ]
  },
  {
   "cell_type": "code",
   "execution_count": 46,
   "metadata": {},
   "outputs": [],
   "source": [
    "#1 -\n",
    "#0 -\n",
    "#1 -\n",
    "#0 -\n",
    "#0 -\n",
    "#0 -\n",
    "#1 -\n",
    "#1 -\n",
    "#flags are the same as in the pesentation"
   ]
  },
  {
   "cell_type": "code",
   "execution_count": 48,
   "metadata": {},
   "outputs": [
    {
     "name": "stdout",
     "output_type": "stream",
     "text": [
      "Number of unmapped:  17765\n"
     ]
    }
   ],
   "source": [
    "numberUnmapped = 0\n",
    "\n",
    "for read in reads:\n",
    "    numberUnmapped = numberUnmapped + read.is_unmapped\n",
    "    \n",
    "print('Number of unmapped: ', numberUnmapped)"
   ]
  },
  {
   "cell_type": "code",
   "execution_count": 50,
   "metadata": {},
   "outputs": [
    {
     "name": "stdout",
     "output_type": "stream",
     "text": [
      "Number of reads:  2921627\n"
     ]
    }
   ],
   "source": [
    "print('Number of reads: ', len(reads))"
   ]
  },
  {
   "cell_type": "code",
   "execution_count": 53,
   "metadata": {},
   "outputs": [
    {
     "name": "stdout",
     "output_type": "stream",
     "text": [
      "Number of reads with mapping quality 0:  126628\n"
     ]
    }
   ],
   "source": [
    "numberQualityZero = 0\n",
    "\n",
    "for read in reads:\n",
    "    if(read.mapping_quality == 0):\n",
    "        numberQualityZero = numberQualityZero + 1\n",
    "    \n",
    "print('Number of reads with mapping quality 0: ', numberQualityZero)"
   ]
  },
  {
   "cell_type": "code",
   "execution_count": 54,
   "metadata": {},
   "outputs": [
    {
     "name": "stdout",
     "output_type": "stream",
     "text": [
      "Average read mapping quality:  55.91381137975518\n"
     ]
    }
   ],
   "source": [
    "avgMappingQuality = 0.0\n",
    "\n",
    "for read in reads:\n",
    "    avgMappingQuality = avgMappingQuality + read.mapping_quality\n",
    "\n",
    "print('Average read mapping quality: ', avgMappingQuality/len(reads))"
   ]
  },
  {
   "cell_type": "code",
   "execution_count": 55,
   "metadata": {},
   "outputs": [
    {
     "name": "stdout",
     "output_type": "stream",
     "text": [
      "Average read mapping quality, zeros filtered:  58.44699801323721\n"
     ]
    }
   ],
   "source": [
    "avgMappingQuality = 0.0\n",
    "numberOfNonZero = 0\n",
    "\n",
    "for read in reads:\n",
    "    if(read.mapping_quality > 0):\n",
    "        numberOfNonZero = numberOfNonZero + 1\n",
    "        avgMappingQuality = avgMappingQuality + read.mapping_quality\n",
    "\n",
    "print('Average read mapping quality, zeros filtered: ', avgMappingQuality/numberOfNonZero)"
   ]
  },
  {
   "cell_type": "code",
   "execution_count": null,
   "metadata": {},
   "outputs": [],
   "source": []
  }
 ],
 "metadata": {
  "kernelspec": {
   "display_name": "Python 3",
   "language": "python",
   "name": "python3"
  },
  "language_info": {
   "codemirror_mode": {
    "name": "ipython",
    "version": 3
   },
   "file_extension": ".py",
   "mimetype": "text/x-python",
   "name": "python",
   "nbconvert_exporter": "python",
   "pygments_lexer": "ipython3",
   "version": "3.8.3"
  }
 },
 "nbformat": 4,
 "nbformat_minor": 4
}
